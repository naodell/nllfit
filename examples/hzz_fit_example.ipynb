{
 "cells": [
  {
   "cell_type": "markdown",
   "metadata": {},
   "source": [
    "# Unbinned log likelihood fitting with nllfitter\n",
    "\n",
    "\n",
    "## Higgs to ZZ to 4 leptons"
   ]
  },
  {
   "cell_type": "markdown",
   "metadata": {
    "collapsed": false
   },
   "source": [
    "This is an example of estimating model parameters of a probability distribution function by minimizing the negative log likelihood (nll).  This will be carried out on dataset that was generated to simulate the discovery of the Higgs boson in the $h_{0}\\rightarrow ZZ \\rightarrow 4\\ell$ decay channel."
   ]
  },
  {
   "cell_type": "code",
   "execution_count": 79,
   "metadata": {
    "code_folding": [],
    "collapsed": false
   },
   "outputs": [
    {
     "name": "stdout",
     "output_type": "stream",
     "text": [
      "/home/naodell/work/projects/nllfit\n"
     ]
    }
   ],
   "source": [
    "# imports and initial set up\n",
    "%cd '/home/naodell/work/projects/nllfit'\n",
    "%matplotlib inline\n",
    "\n",
    "import numpy as np\n",
    "import pandas as pd\n",
    "import matplotlib.pyplot as plt\n",
    "from numpy.polynomial.legendre import legval\n",
    "from scipy.stats import norm, chi2\n",
    "from lmfit import Parameters\n",
    "\n",
    "from nllfit import Parameters, ScanParameters, Model, NLLFitter\n",
    "import nllfit.fit_tools as ft"
   ]
  },
  {
   "cell_type": "markdown",
   "metadata": {},
   "source": [
    "The simulated data consists two components: a background component consisting of electroweak $ZZ\\rightarrow 4\\ell decays$ and the signal from the Higgs boson decay.  The mixtures will be selected so as to resemble the event yields observed at CMS."
   ]
  },
  {
   "cell_type": "code",
   "execution_count": 80,
   "metadata": {
    "collapsed": false
   },
   "outputs": [],
   "source": [
    "xlimits  = (100., 180.)\n",
    "bg_data  = pd.read_csv('data/toy_hzz_bg.txt').query('{0} < inv_mass < {1}'.format(xlimits[0], xlimits[1]))\n",
    "sig_data = pd.read_csv('data/toy_hzz_sig.txt').query('{0} < inv_mass < {1}'.format(115, xlimits[1]))\n",
    "\n",
    "bg_data, sig_data = bg_data['inv_mass'].values, sig_data['inv_mass'].values\n",
    "rn_bg, rn_sig     = np.random.randint(0, bg_data.size, 1000), np.random.randint(0, sig_data.size, 75)\n",
    "bg_data, sig_data = bg_data[rn_bg], sig_data[rn_sig]\n",
    "\n",
    "data = np.concatenate([bg_data[0:100], sig_data[0:25]])\n",
    "#data = data[np.random.randint(0, data.size, 200)]"
   ]
  },
  {
   "cell_type": "markdown",
   "metadata": {},
   "source": [
    "The number of events selected here should probably be checked to consistent with the real life scenario.  It seems like the CMS analysis uses simulation to constrain the background model.  This can be introduced by a judicious choice of simulated background events that are to be included in the fit."
   ]
  },
  {
   "cell_type": "code",
   "execution_count": 81,
   "metadata": {
    "collapsed": false
   },
   "outputs": [
    {
     "data": {
      "image/png": "[encoded data removed]",
      "text/plain": [
       "<matplotlib.figure.Figure at 0x7f71ba17f650>"
      ]
     },
     "metadata": {},
     "output_type": "display_data"
    }
   ],
   "source": [
    "plt.figure(figsize=(6,6))\n",
    "plt.hist([bg_data,sig_data], \n",
    "         bins     = 40, \n",
    "         range    = xlimits, \n",
    "         histtype = 'stepfilled', \n",
    "         stacked  = True, \n",
    "         weights  = [0.1*np.ones(bg_data.size), 0.4*np.ones(sig_data.size)]\n",
    "        )\n",
    "plt.ylabel('Entries / 2 GeV')\n",
    "plt.xlabel(r'$\\sf m_{4\\mu}$ [GeV]')\n",
    "plt.legend([r'$\\sf h_{0}\\rightarrow ZZ\\rightarrow 4\\mu$', r'$\\sf ZZ\\rightarrow 4\\mu$'])\n",
    "plt.show()"
   ]
  },
  {
   "cell_type": "markdown",
   "metadata": {},
   "source": [
    "Let's define the background pdf and background plus signal datasets."
   ]
  },
  {
   "cell_type": "code",
   "execution_count": 82,
   "metadata": {
    "collapsed": true
   },
   "outputs": [],
   "source": [
    "def bg_pdf(x, a, bnds=xlimits):                                                              \n",
    "    '''                                                                        \n",
    "    Third order Legendre Polynomial with constant term set to 0.5.            \n",
    "                                                                               \n",
    "    Parameters:                                                                \n",
    "    ===========                                                                \n",
    "    x: data                                                                    \n",
    "    a: model parameters (a1 and a2)                                            \n",
    "    '''\n",
    "    z   = ft.scale_data(x, xmin=bnds[0], xmax=bnds[1])     \n",
    "    fx  = legval(z, a)*2/(bnds[1] - bnds[0])        \n",
    "    return fx                                                                  \n",
    "\n",
    "def sig_pdf(x, a, normalize=False):                                            \n",
    "    '''                                                                        \n",
    "    Second order Legendre Polynomial (normalized to unity) plus a Gaussian.    \n",
    "                                                                               \n",
    "    Parameters:                                                                \n",
    "    ===========                                                                \n",
    "    x: data                                                                    \n",
    "    a: model parameters (a1, a2, mu, and sigma)                                \n",
    "    '''                                                                        \n",
    "                                                                               \n",
    "    bg = bg_pdf(x, a[3:])                                                     \n",
    "    sig = norm.pdf(x, a[1], a[2])                                              \n",
    "    if normalize:                                                              \n",
    "        sig_norm = integrate.quad(lambda z: norm.pdf(z, a[1], a[2]), -1, 1)[0] \n",
    "    else:                                                                      \n",
    "        sig_norm = 1.                                                          \n",
    "                                                                               \n",
    "    return (1 - a[0])*bg + a[0]*sig/sig_norm"
   ]
  },
  {
   "cell_type": "markdown",
   "metadata": {},
   "source": [
    "For the background model (null hypothesis) we will use a third order Legendre polynomial normalized to unity (this is satisfied by requiring the coefficient for the constand term be 0.5).  The background plus signal model (alternative model) will include an additional Gaussian term.  The mean of the Gaussian should correspond to the Higgs boson mass.\n",
    "\n",
    "Let's set up the background only fit,"
   ]
  },
  {
   "cell_type": "code",
   "execution_count": 83,
   "metadata": {
    "collapsed": false
   },
   "outputs": [],
   "source": [
    "bg_params = Parameters()\n",
    "bg_params.add_many(\n",
    "                   ('a0', 0.5, False, None, None, None),\n",
    "                   ('a1', 0., True, None, None, None),\n",
    "                   ('a2', 0., True, None, None, None),\n",
    "                   ('a3', 0., True, None, None, None)\n",
    "                  )\n",
    "\n",
    "bg_model  = Model(bg_pdf, bg_params)\n",
    "bg_fitter = NLLFitter(bg_model)"
   ]
  },
  {
   "cell_type": "markdown",
   "metadata": {},
   "source": [
    "The NLLFitter framework uses the lmfit Parameters class.  The usage is described [here](https://lmfit.github.io/lmfit-py/parameters.html).  The Model class holds the functional form of the pdf and the parameters.  The NLLFitter is initialized with bg_model which will be used to fit to the data as follows, "
   ]
  },
  {
   "cell_type": "code",
   "execution_count": 84,
   "metadata": {
    "collapsed": false,
    "scrolled": true
   },
   "outputs": [
    {
     "name": "stdout",
     "output_type": "stream",
     "text": [
      "Fit finished with status: 0\n",
      "[[Variables]]\n",
      "    a0:   0.5 (fixed)\n",
      "    a1:   0.00486009 +/- 0.067477 (1388.40%) (init= 0)\n",
      "    a2:  -0.19727368 +/- 0.100684 (51.04%) (init= 0)\n",
      "    a3:   0.32911675 +/- 0.109632 (33.31%) (init= 0)\n",
      "\n",
      "[[Correlation matrix]]\n",
      "[[ 1.     0.007 -0.176  0.269]\n",
      " [ 0.007  1.     0.362 -0.056]\n",
      " [-0.176  0.362  1.     0.349]\n",
      " [ 0.269 -0.056  0.349  1.   ]] \n",
      "\n"
     ]
    }
   ],
   "source": [
    "bg_result = bg_fitter.fit(data)"
   ]
  },
  {
   "cell_type": "markdown",
   "metadata": {},
   "source": [
    "That's all there is to it.  (N.B. the parameters are correct for the range [-1, 1], but in general won't be for the true range.  This will be addressed in iterations in the near future).  Let's do the same for the background plus signal model,"
   ]
  },
  {
   "cell_type": "code",
   "execution_count": 85,
   "metadata": {
    "collapsed": false
   },
   "outputs": [
    {
     "name": "stdout",
     "output_type": "stream",
     "text": [
      "Fit finished with status: 0\n",
      "[[Variables]]\n",
      "    A:       0.23722834 +/- 0.049850 (21.01%) (init= 0.01)\n",
      "    mu:      124.360546 +/- 0.386818 (0.31%) (init= 125)\n",
      "    sigma:   1.66782449 +/- 0.287307 (17.23%) (init= 0.01)\n",
      "    a0:      0.5 (fixed)\n",
      "    a1:      0.15252432 +/- 0.088456 (57.99%) (init= 0)\n",
      "    a2:     -0.07611351 +/- 0.122623 (161.11%) (init= 0)\n",
      "    a3:      0.05832317 +/- 0.154500 (264.90%) (init= 0)\n",
      "\n",
      "[[Correlation matrix]]\n",
      "[[ 1.    -0.005  0.247 -0.247  0.147  0.16  -0.268]\n",
      " [-0.005  1.    -0.009  0.003 -0.016  0.023  0.022]\n",
      " [ 0.247 -0.009  1.    -0.146  0.087  0.093 -0.156]\n",
      " [-0.247  0.003 -0.146  1.     0.077 -0.154  0.194]\n",
      " [ 0.147 -0.016  0.087  0.077  1.     0.257 -0.049]\n",
      " [ 0.16   0.023  0.093 -0.154  0.257  1.     0.059]\n",
      " [-0.268  0.022 -0.156  0.194 -0.049  0.059  1.   ]] \n",
      "\n"
     ]
    }
   ],
   "source": [
    "sig_params = Parameters()\n",
    "sig_params.add_many(\n",
    "                    ('A'     , 0.01 , True , 0.   , 1.   , None),\n",
    "                    ('mu'    , 125  , True , 110 , 170  , None),\n",
    "                    ('sigma' , 0.01 , True , 0.5 , 10.   , None),\n",
    "                   )\n",
    "sig_params += bg_params.copy()\n",
    "sig_model  = Model(sig_pdf, sig_params)\n",
    "sig_fitter = NLLFitter(sig_model)\n",
    "sig_result = sig_fitter.fit(data, calculate_corr=True)"
   ]
  },
  {
   "cell_type": "markdown",
   "metadata": {},
   "source": [
    "Note that I was able to just add a copy of the background parameters to the signal parameters.  Be careful to pass a copy, though, or otherwise the values in bg_params will be different after carrying out the fit of sig_model to the data.  Let's see how our fits look,"
   ]
  },
  {
   "cell_type": "code",
   "execution_count": 86,
   "metadata": {
    "collapsed": false
   },
   "outputs": [
    {
     "data": {
      "image/png": "[encoded data removed]",
      "text/plain": [
       "<matplotlib.figure.Figure at 0x7f71ba483310>"
      ]
     },
     "metadata": {},
     "output_type": "display_data"
    }
   ],
   "source": [
    "ft.fit_plot_1D(data, sig_model, bg_model, xlim=(100, 181), nbins=27, suffix='hzz')"
   ]
  },
  {
   "cell_type": "markdown",
   "metadata": {},
   "source": [
    "Thats' a damn fine fit there.  By eye it looks pretty clear that the background plus signal fits to the data better.  The standard figure of merit for quantizing this model comparison is the likelihood ratio vis-a-vis Wilk's theorem,"
   ]
  },
  {
   "cell_type": "code",
   "execution_count": 87,
   "metadata": {
    "collapsed": false
   },
   "outputs": [
    {
     "name": "stdout",
     "output_type": "stream",
     "text": [
      "z = 6.21948386821\n"
     ]
    }
   ],
   "source": [
    "q = 2*(bg_model.calc_nll(data) - sig_model.calc_nll(data))\n",
    "print 'z = {0}'.format(np.sqrt(q))"
   ]
  },
  {
   "cell_type": "markdown",
   "metadata": {
    "collapsed": true
   },
   "source": [
    "Given the pseudodata was generated by injecting $\\sim 5\\sigma$ signal, this result is to be expected."
   ]
  },
  {
   "cell_type": "code",
   "execution_count": null,
   "metadata": {
    "collapsed": true
   },
   "outputs": [],
   "source": [
    "pd."
   ]
  }
 ],
 "metadata": {
  "hide_input": false,
  "kernelspec": {
   "display_name": "Python 2",
   "language": "python",
   "name": "python2"
  },
  "language_info": {
   "codemirror_mode": {
    "name": "ipython",
    "version": 2
   },
   "file_extension": ".py",
   "mimetype": "text/x-python",
   "name": "python",
   "nbconvert_exporter": "python",
   "pygments_lexer": "ipython2",
   "version": "2.7.12"
  },
  "latex_envs": {
   "bibliofile": "biblio.bib",
   "cite_by": "apalike",
   "current_citInitial": 1,
   "eqLabelWithNumbers": true,
   "eqNumInitial": 0
  },
  "toc": {
   "nav_menu": {
    "height": "62px",
    "width": "251px"
   },
   "navigate_menu": true,
   "number_sections": true,
   "sideBar": true,
   "threshold": 4,
   "toc_cell": false,
   "toc_section_display": "block",
   "toc_window_display": false
  },
  "widgets": {
   "state": {},
   "version": "1.1.2"
  }
 },
 "nbformat": 4,
 "nbformat_minor": 0
}
