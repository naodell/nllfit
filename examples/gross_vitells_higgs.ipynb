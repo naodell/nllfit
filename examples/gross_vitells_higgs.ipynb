{
 "cells": [
  {
   "cell_type": "markdown",
   "metadata": {},
   "source": [
    "# Gross-Vitells LEE for a bump hunt\n",
    "\n",
    "## Preliminaries\n",
    "\n",
    "Consider the case that we are trying to determine whether a reconstructed mass spectrum has evidence of a new resonant state.  That is, given some signal pdf $s(x;\\boldsymbol{\\theta})$ and background pdf $b(x;\\mathbf{a})$ we would like to determine the amplitude, $A$, of the mixture model,\n",
    "\n",
    "$$ \n",
    "f(x;\\mathbf{a}, \\mathbf{\\theta}) = (1 - A)\\,b(x;\\mathbf{a}) + A\\, s(x;\\boldsymbol{\\theta})\n",
    "$$\n",
    "\n",
    "The preferred figure of merit in such cases is the *profile likelihood ratio*,\n",
    "\n",
    "$$\n",
    "q_{0} = \\frac{\\mathcal{L}(A, \\hat{\\theta}, \\hat{a})}{\\mathcal{L}(A=0, \\hat{a})}\n",
    "$$\n",
    "\n",
    "where the parameters have been optimized for the data.  This quantity has the nice property that is distributed according to a $\\chi^{2}_{k}$ distribution where in our case the d.o.f. $k$ corresponds to the number of amplitude terms $A$ and is 1.  This is known as [Wilk's Theorem](https://en.wikipedia.org/wiki/Likelihood-ratio_test#Distribution:_Wilks.E2.80.99_theorem).\n",
    "\n",
    "\n",
    "Frequently, such searches are undertaken with a specific model in mind that can constrain the search parameters, $\\boldsymbol{\\theta}$.  In this notebook I will consider the case that the search parameters are not well constrained, and we would like to adjust the probability to observe a resonance-like fluctuation given it could have appeared anywhere in our search space.\n",
    "\n",
    "Typically, this problem is tackled by carrying out a very large number ($> 10^{6}$) pseudo-experiments which will inevitably be computationally expensive and in some cases infeasible.  The Gross-Vitells approach can be thought of as an extension to Wilk's Therorem where we will factor in the effects of the the unknown search parameters.  This is covered in detail in **citations**.  The important result is that we can represent the excursion probabilities as,\n",
    "\n",
    "$$\n",
    "\\mathbb{P}[\\max_{\\theta \\in \\mathcal{M}} q(\\theta) > u] \\approx \\mathbb{E}[\\phi(A_{u})],\n",
    "$$\n",
    "\n",
    "where the excursion set of $q$ for some threshold $u$ is,\n",
    "\n",
    "$$\n",
    "A_{u} = \\{\\theta \\in \\mathcal{M}: q(\\theta) > u\\},\n",
    "$$\n",
    "\n",
    "and $\\phi$ is the [Euler Characteristic](https://en.wikipedia.org/wiki/Euler_characteristic) of the excursion set.  To get some intuition about $\\phi$, it can be thought of as the number of upcrossings of $q$ for some threshold $u$.\n",
    "\n",
    "## Higgs to diphoton analysis"
   ]
  },
  {
   "cell_type": "code",
   "execution_count": 1,
   "metadata": {
    "code_folding": [
     0
    ],
    "collapsed": false
   },
   "outputs": [
    {
     "name": "stdout",
     "output_type": "stream",
     "text": [
      "/home/naodell/work/nllfit\n"
     ]
    }
   ],
   "source": [
    "# imports and configuration\n",
    "\n",
    "%cd '/home/naodell/work/nllfit'\n",
    "%matplotlib inline\n",
    "\n",
    "import numpy as np\n",
    "import pandas as pd\n",
    "import matplotlib.pyplot as plt\n",
    "from numpy.polynomial.legendre import legval\n",
    "from scipy.stats import norm, chi2\n",
    "from tqdm import tqdm_notebook\n",
    "\n",
    "from nllfit import Parameters, ScanParameters, Model, NLLFitter\n",
    "import nllfit.fit_tools as ft\n",
    "import nllfit.lookee as lee\n"
   ]
  },
  {
   "cell_type": "markdown",
   "metadata": {},
   "source": [
    "As an example, we can consider the most famous recent example of a bump hunt: the Higgs boson discovery in the $\\gamma\\gamma$ channel.  This sample is generated using `MADGRAPH` for calculating the matrix element, `PYTHIA` for hadronization, and finally `DELPHES` for an approximate simulation of the CMS detector response."
   ]
  },
  {
   "cell_type": "code",
   "execution_count": 2,
   "metadata": {
    "collapsed": false
   },
   "outputs": [
    {
     "data": {
      "text/plain": [
       "(100, 180)"
      ]
     },
     "execution_count": 2,
     "metadata": {},
     "output_type": "execute_result"
    },
    {
     "data": {
      "image/png": "[encoded data removed]",
      "text/plain": [
       "<matplotlib.figure.Figure at 0x7f004855af90>"
      ]
     },
     "metadata": {},
     "output_type": "display_data"
    }
   ],
   "source": [
    "df_data  = pd.read_csv('data/toy_hgammagamma.txt')\n",
    "data_hgg = df_data.diphoton_mass.values\n",
    "n_total  = data_hgg.size\n",
    "xlimits  = (100, 180)\n",
    "\n",
    "plt.figure(figsize=(6,6))\n",
    "plt.hist(data_hgg, bins=40, range=(100, 180), histtype='step')\n",
    "plt.xlabel(r'$\\sf M_{\\gamma\\gamma}$')\n",
    "plt.ylabel('Entries / 2 GeV')\n",
    "plt.xlim(100, 180)"
   ]
  },
  {
   "cell_type": "markdown",
   "metadata": {},
   "source": [
    "Next, define the background and signal models. For the background, a third-order Legendre polynomial is used.  For the signal, a Gaussian will be used, though a Voigt profile would be more accurate.  Ultimately, both are characteristically the same in that they are fully specified by the location of the central value and the width of the lineshape.  The bounds on $\\mu$ and $\\sigma$ should be set to correspond to the scan range.  In this case the bounds for $\\mu$ are set to be 5 GeV below/above the maximum/minimum values saved in data."
   ]
  },
  {
   "cell_type": "code",
   "execution_count": 3,
   "metadata": {
    "collapsed": false
   },
   "outputs": [],
   "source": [
    "def bg_pdf(x, a, bnds=xlimits):                                                              \n",
    "    '''                                                                        \n",
    "    Third order Legendre Polynomial with constant term set to 0.5.            \n",
    "                                                                               \n",
    "    Parameters:                                                                \n",
    "    ===========                                                                \n",
    "    x: data                                                                    \n",
    "    a: model parameters (a1 and a2)                                            \n",
    "    '''      \n",
    "    z   = ft.scale_data(x, xmin=bnds[0], xmax=bnds[1])                                      \n",
    "    fx  = legval(z, a)*2/(bnds[1] - bnds[0])                             \n",
    "    return fx                                                                  \n",
    "\n",
    "def sig_pdf(x, a, normalize=False):                                            \n",
    "    '''                                                                        \n",
    "    Second order Legendre Polynomial (normalized to unity) plus a Gaussian.    \n",
    "                                                                               \n",
    "    Parameters:                                                                \n",
    "    ===========                                                                \n",
    "    x: data                                                                    \n",
    "    a: model parameters (a1, a2, mu, and sigma)                                \n",
    "    '''                                                                        \n",
    "                                                                               \n",
    "    bg = bg_pdf(x, a[3:])                                                     \n",
    "    sig = norm.pdf(x, a[1], a[2])                                              \n",
    "    if normalize:                                                              \n",
    "        sig_norm = integrate.quad(lambda z: norm.pdf(z, a[1], a[2]), -1, 1)[0] \n",
    "    else:                                                                      \n",
    "        sig_norm = 1.                                                          \n",
    "                                                                               \n",
    "    return (1 - a[0])*bg + a[0]*sig/sig_norm                                   \n"
   ]
  },
  {
   "cell_type": "code",
   "execution_count": 4,
   "metadata": {
    "collapsed": false
   },
   "outputs": [
    {
     "name": "stderr",
     "output_type": "stream",
     "text": [
      "nllfit/model.py:131: RuntimeWarning: invalid value encountered in log\n",
      "  nll = -np.sum(np.log(pdf))\n"
     ]
    },
    {
     "name": "stdout",
     "output_type": "stream",
     "text": [
      "Fit finished with status: 0\n",
      "[[Variables]]\n",
      "    a0:   0.5 (fixed)\n",
      "    a1:  -0.48139443 +/- 0.009167 (1.90%) (init= 0)\n",
      "    a2:   0.18293974 +/- 0.011612 (6.35%) (init= 0)\n",
      "    a3:  -0.04536159 +/- 0.012026 (26.51%) (init= 0)\n",
      "\n",
      "[[Correlation matrix]]\n",
      "[[ 1.    -0.52   0.156 -0.037]\n",
      " [-0.52   1.    -0.472  0.145]\n",
      " [ 0.156 -0.472  1.    -0.463]\n",
      " [-0.037  0.145 -0.463  1.   ]] \n",
      "\n",
      "Fit finished with status: 0\n",
      "[[Variables]]\n",
      "    A:       0.02703851 +/- 0.008588 (31.77%) (init= 0.01)\n",
      "    mu:      125.337591 +/- 0.652740 (0.52%) (init= 30)\n",
      "    sigma:   2.63585787 +/- 0.751054 (28.49%) (init= 1)\n",
      "    a0:      0.5 (fixed)\n",
      "    a1:     -0.47909048 +/- 0.010811 (2.26%) (init= 0)\n",
      "    a2:      0.20701056 +/- 0.012894 (6.23%) (init= 0)\n",
      "    a3:     -0.08080472 +/- 0.015916 (19.70%) (init= 0)\n",
      "\n",
      "[[Correlation matrix]]\n",
      "[[ 1.    -0.477  0.788 -0.645  0.49   0.384 -0.624]\n",
      " [-0.477  1.    -0.574  0.319 -0.292 -0.095  0.268]\n",
      " [ 0.788 -0.574  1.    -0.527  0.412  0.284 -0.489]\n",
      " [-0.645  0.319 -0.527  1.    -0.663 -0.135  0.378]\n",
      " [ 0.49  -0.292  0.412 -0.663  1.    -0.19  -0.223]\n",
      " [ 0.384 -0.095  0.284 -0.135 -0.19   1.    -0.589]\n",
      " [-0.624  0.268 -0.489  0.378 -0.223 -0.589  1.   ]] \n",
      "\n"
     ]
    }
   ],
   "source": [
    "bg_params = Parameters()\n",
    "bg_params.add_many(\n",
    "                   ('a0', 0.5, False, None, None, None),\n",
    "                   ('a1', 0., True, None, None, None),\n",
    "                   ('a2', 0., True, None, None, None),\n",
    "                   ('a3', 0., True, None, None, None)\n",
    "                  )\n",
    "\n",
    "bg_model  = Model(bg_pdf, bg_params)\n",
    "bg_fitter = NLLFitter(bg_model, verbose=True)\n",
    "bg_result = bg_fitter.fit(data_hgg, calculate_corr=True)\n",
    "\n",
    "# print 'bg result'\n",
    "# bg_params.pretty_print()\n",
    "# print '\\n'\n",
    "\n",
    "sig_params = Parameters()\n",
    "sig_params.add_many(\n",
    "                    ('A'     , 0.01 , True , 0.0  , 1.  , None) ,\n",
    "                    ('mu'    , 30.  , True , 120. , 130. , None) ,\n",
    "                    ('sigma' , 1.   , True , 0.45 , 10.  , None)\n",
    "                   )\n",
    "sig_params += bg_params.copy()\n",
    "sig_model  = Model(sig_pdf, sig_params)\n",
    "sig_fitter = NLLFitter(sig_model, verbose=True)\n",
    "sig_result = sig_fitter.fit(data_hgg, calculate_corr=True)\n",
    "\n",
    "# print 'bg+signal result'\n",
    "# sig_params.pretty_print()"
   ]
  },
  {
   "cell_type": "code",
   "execution_count": 5,
   "metadata": {
    "collapsed": false
   },
   "outputs": [
    {
     "data": {
      "image/png": "[encoded data removed]",
      "text/plain": [
       "<matplotlib.figure.Figure at 0x7f0030781e10>"
      ]
     },
     "metadata": {},
     "output_type": "display_data"
    }
   ],
   "source": [
    "ft.fit_plot_1D(data_hgg, sig_model, bg_model, xlimits, nbins=40, suffix='hgg')"
   ]
  },
  {
   "cell_type": "markdown",
   "metadata": {},
   "source": [
    "Note that the signal model is the mixture of the background polynomial and the Gaussian.  In both cases, the models are fit to the data so that we can use the parameters for generating MC.  It will be important to know the value of the likelihood ratio so that we can later determine the corresponding global p value."
   ]
  },
  {
   "cell_type": "code",
   "execution_count": 6,
   "metadata": {
    "collapsed": false
   },
   "outputs": [
    {
     "data": {
      "text/plain": [
       "34.424436893241364"
      ]
     },
     "execution_count": 6,
     "metadata": {},
     "output_type": "execute_result"
    }
   ],
   "source": [
    "qmax = 2*(bg_model.calc_nll(data_hgg) - sig_model.calc_nll(data_hgg))\n",
    "qmax"
   ]
  },
  {
   "cell_type": "markdown",
   "metadata": {},
   "source": [
    "In order to determine the coefficients for the Gross-Vitells treatment, the search parameters will be scanned over a number of pseudo-datasets generated from the background-only model.  This is done by using a [simple acceptance-rejection sampler](https://github.com/naodell/amumu/blob/master/nllfitter/fit_tools.py#L146).  The number of toys necessary to get a good estimate is typically on the order of ten, but I will generate a 1000 for the sake of validation."
   ]
  },
  {
   "cell_type": "code",
   "execution_count": 7,
   "metadata": {
    "collapsed": false
   },
   "outputs": [],
   "source": [
    "sims = ft.generator(bg_model.pdf, xlimits, ntoys=50*n_total)\n",
    "sims = sims.reshape(50, n_total)"
   ]
  },
  {
   "cell_type": "markdown",
   "metadata": {},
   "source": [
    "Both the mass of the resonance ($\\mu$) and its width ($\\sigma$) need to be scanned over.  For the mass, we will restrict the range under consideration to masses of 110 GeV to 170 GeV (in practice, the range that is scanned is at the discretion of the analyzer and should be a range of values where you would be willing to accept the presence of an anomaly, i.e., masses that are not a priori excluded).  The range of widths should be treated similarily; a reasonable value for the lower bound should be your experimental resolution and the upper bound should be chosen based on the physics models under consideration.  \n",
    "\n",
    "The `ScanParameters` class will generate bounded ranges for the parameters under consideration.  The parameters will be allowed to vary within those bounds and take on the values that minimize the NLL.  Choosing the appropriate granularity is up to the discretion of the analyzer.  I would suggest not making the ranges too granular since you will spend a lot more time running the scans with no benefit.  Also, when doing this it makes sense to first consider the effect of one dimensional scans before undertaking higher dimensional scans."
   ]
  },
  {
   "cell_type": "code",
   "execution_count": null,
   "metadata": {
    "collapsed": false
   },
   "outputs": [],
   "source": [
    "sigma_max = sig_params['sigma'].value\n",
    "nscans = [30, 10]\n",
    "bnds   = [(xlimits[0]+10, xlimits[1]-10), (1, 5)]\n",
    "scan_params = ScanParameters(names  = ['mu', 'sigma'],\n",
    "                             bounds = bnds,\n",
    "                             nscans = nscans\n",
    "                            )\n",
    "# Clean this part up to make more sense for a 1D scan"
   ]
  },
  {
   "cell_type": "markdown",
   "metadata": {},
   "source": [
    "Now we're ready to carry out the scans.  For each toy dataset, we will save the parameters that minimize the nll, the value of the EC for several excursion thresholds `u_0`.  I should mention that I used [Kyle Cranmer's notebook](https://github.com/cranmer/look-elsewhere-2d) on GV as a starting point.  For the most part, my framework is completely independent, but I did take his [code for calculating the EC](https://github.com/cranmer/look-elsewhere-2d).  It makes very nice use of numpy's image convolution modules."
   ]
  },
  {
   "cell_type": "code",
   "execution_count": null,
   "metadata": {
    "code_folding": [],
    "collapsed": false
   },
   "outputs": [],
   "source": [
    "bg_fitter.verbose = False # turn off parameter printing\n",
    "phiscan   = []\n",
    "qmaxscan  = []\n",
    "u_0       = np.linspace(0.01, 30., 300)\n",
    "for i, sim in tqdm_notebook(enumerate(sims), \n",
    "                            desc='Scanning', \n",
    "                            unit_scale=True, \n",
    "                            ncols=75, \n",
    "                            total=len(sims)):\n",
    "    # fit background model\n",
    "    bg_result = bg_fitter.fit(sim, calculate_corr=False)\n",
    "    if bg_result.status == 0:\n",
    "        nll_bg = bg_model.calc_nll(sim)\n",
    "    else:\n",
    "        continue\n",
    "        \n",
    "\n",
    "    # scan over signal parameters\n",
    "    nllscan, params, dof = sig_fitter.scan(scan_params, sim)\n",
    "    qscan = -2*(nllscan - nll_bg)\n",
    "    qmaxscan.append(np.max(qscan))\n",
    "\n",
    "    ### Calculate E.C. of the random field\n",
    "    if qscan.size != np.prod(scan_params.nscans):\n",
    "        continue\n",
    "        \n",
    "    qscan = np.array(qscan).reshape(scan_params.nscans)\n",
    "    phiscan.append([lee.calculate_euler_characteristic((qscan > u) + 0.) \n",
    "                    for u in u_0])\n",
    "\n",
    "# convert lists to arrays\n",
    "phiscan     = np.array(phiscan)\n",
    "qmaxscan    = np.array(qmaxscan)"
   ]
  },
  {
   "cell_type": "markdown",
   "metadata": {},
   "source": [
    "Having completed the scans and calculated the corresponding EC, the coefficients for the EC densities can be determined.  This is done by carrying out a fit to the scan data."
   ]
  },
  {
   "cell_type": "code",
   "execution_count": null,
   "metadata": {
    "collapsed": false
   },
   "outputs": [],
   "source": [
    "param_init = [1.,1.]\n",
    "param_bnds = [(0., np.inf), (0., np.inf)]\n",
    "kvals      = [1]\n",
    "scales     = [0.5]\n",
    "nvals      = lee.get_GV_coefficients(u_0, phiscan, param_init, param_bnds, kvals, scales)"
   ]
  },
  {
   "cell_type": "markdown",
   "metadata": {},
   "source": [
    "Finally, calculate the relevant statistics and print the results,"
   ]
  },
  {
   "cell_type": "code",
   "execution_count": null,
   "metadata": {
    "code_folding": [],
    "collapsed": false
   },
   "outputs": [],
   "source": [
    "### Calculate statistics and print ###\n",
    "p_local  = 0.5*chi2.sf(qmax, 1)\n",
    "z_local  = -norm.ppf(p_local)\n",
    "p_global = lee.get_p_global(qmax, [1], [nvals], [0.5])\n",
    "z_global = -norm.ppf(p_global)\n",
    "\n",
    "for i, n in enumerate(nvals.flatten()):\n",
    "    print 'N{0} = {1:.2f}'.format(i+1, n)\n",
    "\n",
    "print 'local p value       = {0:.3e}'.format(p_local)\n",
    "print 'local significance  = {0:.2f}'.format(z_local)\n",
    "print 'global p value      = {0:.3e}'.format(p_global)\n",
    "print 'global significance = {0:.2f}'.format(z_global)\n",
    "print 'trial factor        = {0:.2f}'.format(p_global/p_local)\n"
   ]
  },
  {
   "cell_type": "markdown",
   "metadata": {},
   "source": [
    "For the sake of validating this result we can check if our prediction from the Gross-Vitells formalism compares well with the distribution from the toy data."
   ]
  },
  {
   "cell_type": "code",
   "execution_count": null,
   "metadata": {
    "collapsed": false,
    "scrolled": false
   },
   "outputs": [],
   "source": [
    "lee.gv_validation_plot(u_0, phiscan, qmaxscan, [nvals], [1], [0.5], None)"
   ]
  },
  {
   "cell_type": "markdown",
   "metadata": {},
   "source": [
    "## Higgs to ZZ to 4 leptons analysis\n",
    "\n",
    "Now we will consider the other golden decay channel: $H\\rightarrow ZZ \\rightarrow 4\\ell$.  This channel is distinct from the $H\\rightarrow \\gamma\\gamma$ channel in specifics (background shape, signal shape, and overall event yield), but when it comes to hypothesis testing the two channels should be combined to determine the total significance.\n",
    "\n",
    "Let's go through the same steps that we went through for the $H\\rightarrow \\gamma\\gamma$ case."
   ]
  },
  {
   "cell_type": "code",
   "execution_count": null,
   "metadata": {
    "collapsed": false
   },
   "outputs": [],
   "source": [
    "df_data  = pd.read_csv('data/toy_hzz.txt')\n",
    "data_hzz = df_data.inv_mass.values\n",
    "n_total  = data_hzz.size\n",
    "\n",
    "plt.hist(data_hzz, bins=27, range=(100, 181), histtype='step')\n",
    "plt.xlabel(r'$\\sf M_{ZZ}$')\n",
    "plt.ylabel('Entries / 2 GeV')\n",
    "plt.xlim(100, 180)\n",
    "plt.ylim(0, 25)"
   ]
  },
  {
   "cell_type": "code",
   "execution_count": null,
   "metadata": {
    "collapsed": false
   },
   "outputs": [],
   "source": [
    "bg_fitter.verbose = True\n",
    "bg_result  = bg_fitter.fit(data_hzz)\n",
    "sig_result = sig_fitter.fit(data_hzz)"
   ]
  },
  {
   "cell_type": "code",
   "execution_count": null,
   "metadata": {
    "collapsed": false
   },
   "outputs": [],
   "source": [
    "ft.fit_plot_1D(data_hzz, sig_model, bg_model, (100, 181), nbins=27, suffix='hzz')"
   ]
  },
  {
   "cell_type": "code",
   "execution_count": null,
   "metadata": {
    "collapsed": true
   },
   "outputs": [],
   "source": [
    "# generate toys\n",
    "sims = ft.generator(bg_model.pdf, xlimits, ntoys=50*n_total)\n",
    "sims = sims.reshape(50, n_total)\n",
    "\n",
    "# set up scan parameters\n",
    "sigma_max = sig_params['sigma'].value\n",
    "nscans = [30, 10]\n",
    "bnds   = [(xlimits[0]+10, xlimits[1]-10), (1, 5)]\n",
    "scan_params = ScanParameters(names  = ['mu', 'sigma'],\n",
    "                             bounds = bnds,\n",
    "                             nscans = nscans\n",
    "                            )\n",
    "\n",
    "# carry out scans over signal parameters\n",
    "bg_fitter.verbose = False # turn off parameter printing\n",
    "phiscan   = []\n",
    "qmaxscan  = []\n",
    "u_0       = np.linspace(0.01, 30., 300)\n",
    "for i, sim in tqdm_notebook(enumerate(sims), \n",
    "                            desc='Scanning', \n",
    "                            unit_scale=True, \n",
    "                            ncols=75, \n",
    "                            total=len(sims)):\n",
    "    # fit background model\n",
    "    bg_result = bg_fitter.fit(sim, calculate_corr=False)\n",
    "    if bg_result.status == 0:\n",
    "        nll_bg = bg_model.calc_nll(sim)\n",
    "    else:\n",
    "        continue\n",
    "        \n",
    "\n",
    "    # scan over signal parameters\n",
    "    nllscan, params, dof = sig_fitter.scan(scan_params, sim)\n",
    "    qscan = -2*(nllscan - nll_bg)\n",
    "    qmaxscan.append(np.max(qscan))\n",
    "\n",
    "    ### Calculate E.C. of the random field\n",
    "    if qscan.size != np.prod(scan_params.nscans):\n",
    "        continue\n",
    "        \n",
    "    qscan = np.array(qscan).reshape(scan_params.nscans)\n",
    "    phiscan.append([lee.calculate_euler_characteristic((qscan > u) + 0.) \n",
    "                    for u in u_0])\n",
    "\n",
    "# convert lists to arrays\n",
    "phiscan     = np.array(phiscan)\n",
    "qmaxscan    = np.array(qmaxscan)"
   ]
  },
  {
   "cell_type": "code",
   "execution_count": null,
   "metadata": {
    "collapsed": true
   },
   "outputs": [],
   "source": [
    "param_init = [1.,1.]\n",
    "param_bnds = [(0., np.inf), (0., np.inf)]\n",
    "kvals      = [1]\n",
    "scales     = [0.5]\n",
    "nvals      = lee.get_GV_coefficients(u_0, phiscan, param_init, param_bnds, kvals, scales)\n",
    "\n",
    "### Calculate statistics and print ###\n",
    "p_local  = 0.5*chi2.sf(qmax, 1)\n",
    "z_local  = -norm.ppf(p_local)\n",
    "p_global = lee.get_p_global(qmax, [1], [nvals], [0.5])\n",
    "z_global = -norm.ppf(p_global)\n",
    "\n",
    "for i, n in enumerate(nvals.flatten()):\n",
    "    print 'N{0} = {1:.2f}'.format(i+1, n)\n",
    "\n",
    "print 'local p value       = {0:.3e}'.format(p_local)\n",
    "print 'local significance  = {0:.2f}'.format(z_local)\n",
    "print 'global p value      = {0:.3e}'.format(p_global)\n",
    "print 'global significance = {0:.2f}'.format(z_global)\n",
    "print 'trial factor        = {0:.2f}'.format(p_global/p_local)\n",
    "\n",
    "lee.gv_validation_plot(u_0, phiscan, qmaxscan, [nvals], [1], [0.5], None)"
   ]
  }
 ],
 "metadata": {
  "hide_input": false,
  "kernelspec": {
   "display_name": "Python 2",
   "language": "python",
   "name": "python2"
  },
  "language_info": {
   "codemirror_mode": {
    "name": "ipython",
    "version": 2
   },
   "file_extension": ".py",
   "mimetype": "text/x-python",
   "name": "python",
   "nbconvert_exporter": "python",
   "pygments_lexer": "ipython2",
   "version": "2.7.12"
  },
  "latex_envs": {
   "bibliofile": "biblio.bib",
   "cite_by": "apalike",
   "current_citInitial": 1,
   "eqLabelWithNumbers": true,
   "eqNumInitial": 0
  },
  "toc": {
   "nav_menu": {
    "height": "67px",
    "width": "252px"
   },
   "navigate_menu": true,
   "number_sections": true,
   "sideBar": true,
   "threshold": 4,
   "toc_cell": false,
   "toc_section_display": "block",
   "toc_window_display": false
  },
  "widgets": {
   "state": {
    "c5badc8e4fb9417ab91a288b2c479c2f": {
     "views": [
      {
       "cell_index": 15
      }
     ]
    }
   },
   "version": "1.2.0"
  }
 },
 "nbformat": 4,
 "nbformat_minor": 0
}
