{
 "cells": [
  {
   "cell_type": "markdown",
   "metadata": {},
   "source": [
    "# Gross-Vitells LEE for a bump hunt with two channels\n",
    "\n",
    "## Preliminaries\n",
    "\n",
    "This is a continuation of the notebook showing how to calculate excursion probabilities in the presence of one or more unknown signal parameters in a search for new physics.  Previously I had shown how this can be done for the case of the discovery of the Higgs boson and focused on the two \"golden\" channels: $h_{0}\\rightarrow \\gamma\\gamma$ and $h_{0}\\rightarrow ZZ \\rightarrow 4\\ell$.  As before, we'll carry out an unbinned MLE for the model parameters, but this time both channels will be fit simultaneously with the signal parameters $\\mu$ and $\\sigma$ fixed to be the same in both channels.\n",
    "\n",
    "The important distinction between this approach and the case of the individual channels is that we will now minimize the combined likelihood:\n",
    "\n",
    "$$\n",
    "\\mathcal{L} = -\\sum \\log f_{\\gamma\\gamma}(x_{\\gamma\\gamma,i};\\boldsymbol{\\alpha}_{\\gamma\\gamma}, \\mu, \\sigma) - \\sum \\log f_{ZZ}(x_{ZZ,i};\\boldsymbol{\\alpha}_{ZZ}, \\mu, \\sigma),\n",
    "$$\n",
    "\n",
    "where each channel has its own background parameterization, $\\boldsymbol{\\alpha}$, but the same signal parameters: the center of the resonance, $\\mu$, and its width, $\\sigma$.\n",
    "\n",
    "## Simultaneous fit"
   ]
  },
  {
   "cell_type": "code",
   "execution_count": 1,
   "metadata": {
    "code_folding": [
     0
    ],
    "collapsed": false
   },
   "outputs": [
    {
     "name": "stdout",
     "output_type": "stream",
     "text": [
      "/home/naodell/work/nllfit\n"
     ]
    }
   ],
   "source": [
    "# imports and configuration\n",
    "\n",
    "%cd '/home/naodell/work/nllfit'\n",
    "%matplotlib inline\n",
    "\n",
    "import numpy as np\n",
    "import pandas as pd\n",
    "import matplotlib.pyplot as plt\n",
    "from numpy.polynomial.legendre import legval\n",
    "from scipy.stats import norm, chi2\n",
    "from tqdm import tqdm_notebook\n",
    "\n",
    "from nllfit import Parameters, ScanParameters, Model, CombinedModel, NLLFitter\n",
    "import nllfit.fit_tools as ft\n",
    "import nllfit.lookee as lee\n"
   ]
  },
  {
   "cell_type": "code",
   "execution_count": 2,
   "metadata": {
    "code_folding": [
     0
    ],
    "collapsed": false
   },
   "outputs": [],
   "source": [
    "# plot of toy data\n",
    "datasets = []\n",
    "df_data  = pd.read_csv('data/toy_hgammagamma.txt')\n",
    "datasets.append(df_data.diphoton_mass.values)\n",
    "\n",
    "df_data  = pd.read_csv('data/toy_hzz.txt')\n",
    "datasets.append(df_data.inv_mass.values)\n",
    "\n",
    "df_bg       = pd.read_csv('data/toy_hzz_bg.txt')\n",
    "data_hzz_bg = df_bg.inv_mass.values[:7500]\n",
    "\n",
    "xlimits  = (100, 180)"
   ]
  },
  {
   "cell_type": "markdown",
   "metadata": {},
   "source": [
    "Next, define the background and signal models. For the background, a third-order Legendre polynomial is used.  For the signal, a Gaussian will be used, though a Voigt profile would be more accurate.  Ultimately, both are characteristically the same in that they are fully specified by the location of the central value and the width of the lineshape.  The bounds on $\\mu$ and $\\sigma$ should be set to correspond to the scan range.  In this case the bounds for $\\mu$ are set to be 5 GeV below/above the maximum/minimum values saved in data."
   ]
  },
  {
   "cell_type": "code",
   "execution_count": 3,
   "metadata": {
    "code_folding": [
     0
    ],
    "collapsed": false
   },
   "outputs": [],
   "source": [
    "### pdf definitions\n",
    "def bg_pdf(x, a, bnds=(100, 180)):                                                              \n",
    "    '''                                                                        \n",
    "    Wrapper for nth order Legendre Polynomial.            \n",
    "                                                                               \n",
    "    Parameters:                                                                \n",
    "    ===========                                                                \n",
    "    x: data                                                                    \n",
    "    a: model parameters (a1 and a2)                                            \n",
    "    '''      \n",
    "    z   = ft.scale_data(x, xmin=bnds[0], xmax=bnds[1])                                      \n",
    "    fx  = legval(z, a)*2/(bnds[1] - bnds[0])                             \n",
    "    return fx                                                                  \n",
    "\n",
    "def sig_pdf(x, a, normalize=False):                                            \n",
    "    '''                                                                        \n",
    "    Second order Legendre Polynomial (normalized to unity) plus a Gaussian.    \n",
    "                                                                               \n",
    "    Parameters:                                                                \n",
    "    ===========                                                                \n",
    "    x: data                                                                    \n",
    "    a: model parameters (a1, a2, mu, and sigma)                                \n",
    "    '''                                                                        \n",
    "                                                                               \n",
    "    bg = bg_pdf(x, a[3:])                                                     \n",
    "    sig = norm.pdf(x, a[1], a[2])                                              \n",
    "    if normalize:                                                              \n",
    "        sig_norm = integrate.quad(lambda z: norm.pdf(z, a[1], a[2]), -1, 1)[0] \n",
    "    else:                                                                      \n",
    "        sig_norm = 1.                                                          \n",
    "                                                                               \n",
    "    return (1 - a[0])*bg + a[0]*sig/sig_norm                                   \n"
   ]
  },
  {
   "cell_type": "code",
   "execution_count": 4,
   "metadata": {
    "code_folding": [],
    "collapsed": false
   },
   "outputs": [
    {
     "name": "stderr",
     "output_type": "stream",
     "text": [
      "nllfit/model.py:131: RuntimeWarning: invalid value encountered in log\n",
      "  nll = -np.sum(np.log(pdf))\n",
      "nllfit/model.py:131: RuntimeWarning: divide by zero encountered in log\n",
      "  nll = -np.sum(np.log(pdf))\n"
     ]
    }
   ],
   "source": [
    "### Fit single models to initialize parameters\n",
    "### Define bg model and carry out fit \n",
    "bg1_params = Parameters()\n",
    "bg1_params.add_many(\n",
    "                   ('a0', 0.5, False, None, None, None),\n",
    "                   ('a1', 0., True, None, None, None),\n",
    "                   ('a2', 0., True, None, None, None),\n",
    "                   ('a3', 0., True, None, None, None)\n",
    "                  )\n",
    "bg1_model  = Model(bg_pdf, bg1_params)\n",
    "bg1_fitter = NLLFitter(bg1_model, verbose=False)\n",
    "bg1_result = bg1_fitter.fit(datasets[0])\n",
    "\n",
    "bg2_params = Parameters()\n",
    "bg2_params.add_many(\n",
    "                   ('b0', 0.5, False, None, None, None),\n",
    "                   ('b1', 0., True, None, None, None),\n",
    "                   ('b2', 0., True, None, None, None),\n",
    "                   ('b3', 0., True, None, None, None)\n",
    "                  )\n",
    "bg2_model  = Model(bg_pdf, bg2_params)\n",
    "bg2_fitter = NLLFitter(bg2_model, verbose=False)\n",
    "bg2_result = bg2_fitter.fit(data_hzz_bg)\n",
    "\n",
    "bg2_params['b1'].vary   = False\n",
    "bg2_params['b2'].vary   = False\n",
    "bg2_params['b3'].vary   = False\n",
    "\n",
    "### Define bg+sig model and carry out fit ###\n",
    "sig1_params = Parameters()\n",
    "sig1_params.add_many(\n",
    "                    ('A1'    , 0.01 , True , 0.   , 1.   , None),\n",
    "                    ('mu'    , 125. , True , 120., 150.  , None),\n",
    "                    ('sigma' , 2.0  , True , 1.   , 5.   , None)\n",
    "                   )\n",
    "sig1_params += bg1_params.copy()\n",
    "sig1_model  = Model(sig_pdf, sig1_params)\n",
    "sig1_fitter = NLLFitter(sig1_model, verbose=False)\n",
    "sig1_result = sig1_fitter.fit(datasets[0])\n",
    "\n",
    "sig2_params = Parameters()\n",
    "sig2_params.add_many(\n",
    "                    ('A2'    , 0.01 , True , 0.   , 1.   , None),\n",
    "                    ('mu'    , 125.  , True , 120.  , 150.  , None),\n",
    "                    ('sigma' , 2.0  , True , 1. , 5.   , None)\n",
    "                   )\n",
    "sig2_params += bg2_params.copy()\n",
    "sig2_model  = Model(sig_pdf, sig2_params)\n",
    "sig2_fitter = NLLFitter(sig2_model, verbose=False)\n",
    "sig2_result = sig2_fitter.fit(datasets[1])"
   ]
  },
  {
   "cell_type": "markdown",
   "metadata": {},
   "source": [
    "Combining the two channels is made easy using the handy `CombinedModel` class.  All that's needed is to pass in the individual `Model` instances as a list.  Then when you fit the data pass in the data as a list where the order corresponds to the order the `Model` instances were passed into the `CombinedModel` instance."
   ]
  },
  {
   "cell_type": "code",
   "execution_count": 16,
   "metadata": {
    "code_folding": [],
    "collapsed": false
   },
   "outputs": [
    {
     "name": "stdout",
     "output_type": "stream",
     "text": [
      "Fit finished with status: 0\n",
      "[[Variables]]\n",
      "    a0:   0.5 (fixed)\n",
      "    a1:  -0.48139596 +/- 0.009167 (1.90%) (init= 0)\n",
      "    a2:   0.18294692 +/- 0.011612 (6.35%) (init= 0)\n",
      "    a3:  -0.04536341 +/- 0.012026 (26.51%) (init= 0)\n",
      "    b0:   0.5 (fixed)\n",
      "    b1:  -0.05247548 (fixed)\n",
      "    b2:   0.00046844 (fixed)\n",
      "    b3:   0.09257463 (fixed)\n",
      "\n",
      "[[Correlation matrix]]\n",
      "[[ 1.    -0.52   0.156 -0.037  0.     0.     0.     0.   ]\n",
      " [-0.52   1.    -0.472  0.145  0.     0.     0.     0.   ]\n",
      " [ 0.156 -0.472  1.    -0.463  0.     0.     0.     0.   ]\n",
      " [-0.037  0.145 -0.463  1.     0.     0.     0.     0.   ]\n",
      " [ 0.     0.     0.     0.     1.    -0.239  0.253 -0.197]\n",
      " [ 0.     0.     0.     0.    -0.239  1.    -0.317  0.373]\n",
      " [ 0.     0.     0.     0.     0.253 -0.317  1.    -0.139]\n",
      " [ 0.     0.     0.     0.    -0.197  0.373 -0.139  1.   ]] \n",
      "\n",
      "Fit finished with status: 0\n",
      "[[Variables]]\n",
      "    A1:      3.7768e-14 +/- nan      (nan%) (init= 0.01)\n",
      "    mu:      150        +/- nan      (nan%) (init= 125)\n",
      "    sigma:   5          +/- nan      (nan%) (init= 2)\n",
      "    a0:      0.5 (fixed)\n",
      "    a1:     -0.48139646 +/- 0.009167 (1.90%) (init= 0)\n",
      "    a2:      0.18294731 +/- 0.011612 (6.35%) (init= 0)\n",
      "    a3:     -0.04536282 +/- 0.012026 (26.51%) (init= 0)\n",
      "    A2:      6.8212e-13 +/- nan      (nan%) (init= 0.01)\n",
      "    b0:      0.5 (fixed)\n",
      "    b1:     -0.05247548 (fixed)\n",
      "    b2:      0.00046844 (fixed)\n",
      "    b3:      0.09257463 (fixed)\n",
      "\n",
      "[[Correlation matrix]]\n",
      "[[        nan         nan         nan         nan         nan         nan\n",
      "          nan         nan         nan         nan         nan         nan]\n",
      " [        nan         nan         nan         nan         nan         nan\n",
      "          nan         nan         nan         nan         nan         nan]\n",
      " [        nan         nan         nan         nan         nan         nan\n",
      "          nan         nan         nan         nan         nan         nan]\n",
      " [        nan         nan         nan   1.000e+00  -5.198e-01   1.557e-01\n",
      "   -3.722e-02         nan  -1.075e-10  -3.870e-11   9.824e-11   9.913e-11]\n",
      " [        nan         nan         nan  -5.198e-01   1.000e+00  -4.722e-01\n",
      "    1.447e-01         nan   2.288e-10   8.237e-11  -2.092e-10  -2.110e-10]\n",
      " [        nan         nan         nan   1.557e-01  -4.722e-01   1.000e+00\n",
      "   -4.626e-01         nan  -1.147e-10  -4.126e-11   1.048e-10   1.057e-10]\n",
      " [        nan         nan         nan  -3.722e-02   1.447e-01  -4.626e-01\n",
      "    1.000e+00         nan   2.742e-11   9.873e-12  -2.506e-11  -2.529e-11]\n",
      " [        nan         nan         nan         nan         nan         nan\n",
      "          nan         nan         nan         nan         nan         nan]\n",
      " [        nan         nan         nan  -1.188e-10   2.240e-10  -1.043e-10\n",
      "    3.353e-11         nan   1.000e+00  -2.393e-01   2.531e-01  -1.965e-01]\n",
      " [        nan         nan         nan  -4.274e-11   8.063e-11  -3.756e-11\n",
      "    1.206e-11         nan  -2.393e-01   1.000e+00  -3.169e-01   3.730e-01]\n",
      " [        nan         nan         nan   1.085e-10  -2.048e-10   9.541e-11\n",
      "   -3.062e-11         nan   2.531e-01  -3.169e-01   1.000e+00  -1.392e-01]\n",
      " [        nan         nan         nan   1.095e-10  -2.066e-10   9.626e-11\n",
      "   -3.089e-11         nan  -1.965e-01   3.730e-01  -1.392e-01   1.000e+00]] \n",
      "\n"
     ]
    },
    {
     "name": "stderr",
     "output_type": "stream",
     "text": [
      "nllfit/nllfitter.py:71: RuntimeWarning: invalid value encountered in sqrt\n",
      "  sig = np.sqrt(hinv.diagonal())\n"
     ]
    }
   ],
   "source": [
    "### Carry out simultaneous MLE with background model\n",
    "bg_model  = CombinedModel([bg1_model, bg2_model])\n",
    "bg_fitter = NLLFitter(bg_model, verbose=True)\n",
    "bg_result = bg_fitter.fit(datasets)\n",
    "\n",
    "### Carry out simultaneous MLE with bg+signal model\n",
    "sig_model  = CombinedModel([sig1_model, sig2_model])\n",
    "sig_fitter = NLLFitter(sig_model, verbose=True)\n",
    "sig_result = sig_fitter.fit(datasets)"
   ]
  },
  {
   "cell_type": "markdown",
   "metadata": {},
   "source": [
    "Note that the signal model is the mixture of the background polynomial and the Gaussian.  In both cases, the models are fit to the data so that we can use the parameters for generating MC.  It will be important to know the value of the likelihood ratio so that we can later determine the corresponding global p value."
   ]
  },
  {
   "cell_type": "code",
   "execution_count": 6,
   "metadata": {
    "collapsed": false
   },
   "outputs": [
    {
     "data": {
      "text/plain": [
       "72.159884157881606"
      ]
     },
     "execution_count": 6,
     "metadata": {},
     "output_type": "execute_result"
    }
   ],
   "source": [
    "qmax = 2*(bg_model.calc_nll(datasets) - sig_model.calc_nll(datasets))\n",
    "qmax"
   ]
  },
  {
   "cell_type": "markdown",
   "metadata": {},
   "source": [
    "As in the single channel case, we generate a number simulated datasets and generate a number of scan points."
   ]
  },
  {
   "cell_type": "code",
   "execution_count": 7,
   "metadata": {
    "code_folding": [
     0
    ],
    "collapsed": false
   },
   "outputs": [],
   "source": [
    "### Generate toy MC ###\n",
    "sims = []\n",
    "nsims = 1000\n",
    "for model, dataset in zip(bg_model.models, datasets):\n",
    "    simdata = ft.generator(model.pdf, xlimits, ntoys=nsims*dataset.size)\n",
    "    sims.append(simdata.reshape(nsims, dataset.size))\n",
    "sims = zip(sims[0], sims[1])\n",
    "\n",
    "# define scan parameters\n",
    "sig_params = sig_model.get_parameters()\n",
    "sigma_max  = sig_params['sigma'].value\n",
    "nscans     = [30, 10]\n",
    "bnds       = [(xlimits[0]+10, xlimits[1]-10), (1, 5)]\n",
    "\n",
    "scan_params = ScanParameters(names  = ['mu', 'sigma'],\n",
    "                             bounds = bnds,\n",
    "                             nscans = nscans\n",
    "                            )"
   ]
  },
  {
   "cell_type": "markdown",
   "metadata": {},
   "source": [
    "This is where we get into new stuff.  In order to appropriately account for bounds on the signal strength parameters (they should be non-negative), the GV expansion needs to modified to account for this,\n",
    "\n",
    "$$\n",
    "\\mathbb{E}[\\phi(A_{u})] =                                                 \n",
    "\\frac{1}{4}\\delta_{0}(u)                                                 \n",
    "+ \\frac{1}{4}\\sum_{d=0}^{D}\\mathcal{N}^{\\gamma\\gamma}_{d}\\rho_{d}(u;d,1)      \n",
    "+ \\frac{1}{4}\\sum_{d=0}^{D}\\mathcal{N}^{ZZ}_{d}\\rho_{d}(u;d,1)        \n",
    "+ \\frac{1}{4} \\sum_{d=0}^{D}\\mathcal{N}^{\\gamma\\gamma + ZZ}_{d}\\rho_{d}(u;d,2)\n",
    "$$\n",
    "\n",
    "The coefficients for the middle two expressions are determined independently for each channel (these correspond to $A_{\\gamma\\gamma} > 0$ and $A_{ZZ} \\leq 0$ or $A_{\\gamma\\gamma} \\leq 0$ and $A_{ZZ} > 0$).  The last term accounts for the case that both channels have positive amplitude fluctuations.  That these three components are treated separately while scanning and then subsequently determining the the coefficients is very important and is needed because of the degeneracy (or non-orthogonality) of the EC densities $\\rho_{d}$."
   ]
  },
  {
   "cell_type": "code",
   "execution_count": 8,
   "metadata": {
    "code_folding": [
     0
    ],
    "collapsed": false
   },
   "outputs": [
    {
     "name": "stderr",
     "output_type": "stream",
     "text": [
      "Widget Javascript not detected.  It may not be installed properly. Did you enable the widgetsnbextension? If not, then run \"jupyter nbextension enable --py --sys-prefix widgetsnbextension\"\n"
     ]
    },
    {
     "name": "stdout",
     "output_type": "stream",
     "text": [
      "\n"
     ]
    }
   ],
   "source": [
    "# carry out scans of signal parameters and cacluate EC for varying excursions\n",
    "paramscan = []\n",
    "qmaxscan  = []\n",
    "dofs      = []\n",
    "phiscan   = [[], [], []]\n",
    "u_0       = np.linspace(0.2, 30., 149)\n",
    "for i, sim in tqdm_notebook(enumerate(sims), \n",
    "                            desc       = 'scanning',\n",
    "                            unit_scale = True,\n",
    "                            ncols      = 75,\n",
    "                            total      = len(sims)\n",
    "                           ):\n",
    "    sim = list(sim) # fitter doesn't like tuples for some reason... \n",
    "\n",
    "    # fit background model\n",
    "    bg1_result = bg1_fitter.fit(sim[0])\n",
    "    bg2_result = bg2_fitter.fit(sim[1])\n",
    "    bg_result  = bg_fitter.fit(sim)\n",
    "    if bg_result.status == 0:\n",
    "        nll_bg1 = bg1_model.calc_nll(sim[0], bg1_result.x)\n",
    "        nll_bg2 = bg2_model.calc_nll(sim[1], bg2_result.x)\n",
    "        nll_bg  = bg_model.calc_nll(sim, bg_result.x)\n",
    "    else:\n",
    "        continue\n",
    "\n",
    "    # scan over signal parameters (1b1f)\n",
    "    nllscan, _, _ = sig1_fitter.scan(scan_params, sim[0]) \n",
    "    qscan = -2*(nllscan - nll_bg1)\n",
    "\n",
    "    ### Calculate E.C. of the random field\n",
    "    if qscan.size != np.prod(scan_params.nscans): \n",
    "        continue\n",
    "\n",
    "    qscan = np.array(qscan).reshape(nscans)\n",
    "    phiscan[0].append(np.array([lee.calculate_euler_characteristic((qscan > u) + 0.) for u in u_0]))\n",
    "\n",
    "    # scan over signal parameters (1b1c)\n",
    "    nllscan, _, _ = sig2_fitter.scan(scan_params, sim[1]) \n",
    "    qscan = -2*(nllscan - nll_bg2)\n",
    "\n",
    "    ### Calculate E.C. of the random field\n",
    "    if qscan.size != np.prod(scan_params.nscans): \n",
    "        continue\n",
    "\n",
    "    qscan = np.array(qscan).reshape(nscans)\n",
    "    phiscan[1].append(np.array([lee.calculate_euler_characteristic((qscan > u) + 0.) for u in u_0]))\n",
    "    # scan over signal parameters\n",
    "    nllscan, params, dof = sig_fitter.scan(scan_params, sim, amps=[0, 5]) \n",
    "    qscan = -2*(nllscan - nll_bg)\n",
    "\n",
    "    ### Calculate E.C. of the random field\n",
    "    if qscan.size != np.prod(scan_params.nscans): \n",
    "        continue\n",
    "\n",
    "    qscan = np.array(qscan).reshape(nscans)\n",
    "    phiscan[2].append(np.array([lee.calculate_euler_characteristic((qscan > u) + 0.) for u in u_0]))\n",
    "    paramscan.append(params)\n",
    "    qmaxscan.append(np.max(qscan))\n",
    "    dofs.append(dof)\n",
    "\n",
    "#     if make_plots and i < 50:\n",
    "#         #for j, channel in enumerate(channels):\n",
    "#         #    ft.fit_plot(sim[j], xlimits, sig_model.models[j], bg_model.models[j],\n",
    "#         #               'simultaneous_{0}_{1}'.format(channel,i+1), path='plots/scan_fits')\n",
    "\n",
    "#         if ndim == 1:\n",
    "#             ft.plot_pvalue_scan_1D(qscan.flatten(), mu, \n",
    "#                                    path ='plots/scan_fits/pvalue_scans_{0}_{1}_1D.png'.format(channel, i+1))\n",
    "#         if ndim == 2:\n",
    "#             ft.plot_pvalue_scan_2D(qscan.flatten(), mu, sigma,\n",
    "#                                    path ='plots/scan_fits/pvalue_scans_{0}_{1}_2D.png'.format(channel, i+1))\n",
    "\n",
    "phiscan   = [np.array(ps) for ps in phiscan]\n",
    "paramscan = np.array(paramscan)\n",
    "qmaxscan  = np.array(qmaxscan)\n",
    "dofs      = np.array(dofs)"
   ]
  },
  {
   "cell_type": "markdown",
   "metadata": {},
   "source": [
    "Having completed the scans and calculated the corresponding EC, the coefficients for the EC densities can be determined.  This is done by carrying out a fit to the scan data."
   ]
  },
  {
   "cell_type": "code",
   "execution_count": 12,
   "metadata": {
    "code_folding": [
     0
    ],
    "collapsed": false
   },
   "outputs": [],
   "source": [
    "# determine coefficients for GV expansion\n",
    "\n",
    "ndim    = 2\n",
    "nvals1  = lee.get_GV_coefficients(u_0, phiscan[0], \n",
    "                                  p_init = ndim*[1.,],\n",
    "                                  p_bnds = ndim*[(0., np.inf), ],\n",
    "                                  kvals  = [1], \n",
    "                                  scales = [0.5]\n",
    "                                 )\n",
    "nvals2  = lee.get_GV_coefficients(u_0, phiscan[1], \n",
    "                                  p_init = ndim*[1.,],\n",
    "                                  p_bnds = ndim*[(0., np.inf), ],\n",
    "                                  kvals  = [1], \n",
    "                                  scales = [0.5]\n",
    "                                 )\n",
    "\n",
    "prebounds = [(n, n) for n in np.concatenate((nvals1, nvals2))] + ndim*[(0., np.inf),]\n",
    "preinit   = np.concatenate((nvals1, nvals2, ndim*[1.,]))\n",
    "kvals     = [1, 1, 2]\n",
    "scales    = [0.25, 0.25, 0.25]\n",
    "nvals     = lee.get_GV_coefficients(u_0, phiscan[2],\n",
    "                                    p_init = preinit,\n",
    "                                    p_bnds = prebounds, \n",
    "                                    kvals  = kvals,\n",
    "                                    scales = scales\n",
    "                                   )\n",
    "nvals = np.reshape(nvals, (3, ndim))"
   ]
  },
  {
   "cell_type": "markdown",
   "metadata": {},
   "source": [
    "Finally, calculate the relevant statistics and print the results,"
   ]
  },
  {
   "cell_type": "code",
   "execution_count": 13,
   "metadata": {
    "code_folding": [
     0
    ],
    "collapsed": false
   },
   "outputs": [
    {
     "name": "stdout",
     "output_type": "stream",
     "text": [
      "N1 = 29.10\n",
      "N2 = 26.67\n",
      "N3 = 26.57\n",
      "N4 = 16.32\n",
      "N5 = 15.67\n",
      "N6 = 31.19\n",
      "\n",
      "local p value       = 6.346e-17\n",
      "local significance  = 8.28\n",
      "global p value      = 2.525e-14\n",
      "global significance = 7.53\n",
      "trial factor        = 397.94\n"
     ]
    }
   ],
   "source": [
    "### Calculate statistics ###\n",
    "p_local  = 0.5*chi2.sf(qmax, 1) + 0.25*chi2.sf(qmax, 2) # according to Chernoff \n",
    "z_local  = -norm.ppf(p_local)\n",
    "p_global = lee.get_p_global(qmax, kvals, nvals, scales)\n",
    "z_global = -norm.ppf(p_global)\n",
    "\n",
    "for i, n in enumerate(nvals.flatten()):\n",
    "    print 'N{0} = {1:.2f}'.format(i+1, n)\n",
    "\n",
    "print ''\n",
    "print 'local p value       = {0:.3e}'.format(p_local)\n",
    "print 'local significance  = {0:.2f}'.format(z_local)\n",
    "print 'global p value      = {0:.3e}'.format(p_global)\n",
    "print 'global significance = {0:.2f}'.format(z_global)\n",
    "print 'trial factor        = {0:.2f}'.format(p_global/p_local)"
   ]
  },
  {
   "cell_type": "markdown",
   "metadata": {},
   "source": [
    "For the sake of validating this result we can check if our prediction from the Gross-Vitells formalism compares well with the distribution from the toy data."
   ]
  },
  {
   "cell_type": "code",
   "execution_count": 14,
   "metadata": {
    "code_folding": [],
    "collapsed": false,
    "scrolled": false
   },
   "outputs": [
    {
     "data": {
      "image/png": "[encoded data removed]",
      "text/plain": [
       "<matplotlib.figure.Figure at 0x7f3757765610>"
      ]
     },
     "metadata": {},
     "output_type": "display_data"
    }
   ],
   "source": [
    "lee.gv_validation_plot(u_0, phiscan[-1], qmaxscan, \n",
    "                       nvals, kvals, scales, None)\n",
    "#                        channel='simultaneous_{0}D'.format(ndim))"
   ]
  }
 ],
 "metadata": {
  "hide_input": false,
  "kernelspec": {
   "display_name": "Python 2",
   "language": "python",
   "name": "python2"
  },
  "language_info": {
   "codemirror_mode": {
    "name": "ipython",
    "version": 2
   },
   "file_extension": ".py",
   "mimetype": "text/x-python",
   "name": "python",
   "nbconvert_exporter": "python",
   "pygments_lexer": "ipython2",
   "version": "2.7.12"
  },
  "latex_envs": {
   "bibliofile": "biblio.bib",
   "cite_by": "apalike",
   "current_citInitial": 1,
   "eqLabelWithNumbers": true,
   "eqNumInitial": 0
  },
  "toc": {
   "nav_menu": {
    "height": "237px",
    "width": "252px"
   },
   "navigate_menu": true,
   "number_sections": true,
   "sideBar": true,
   "threshold": 4,
   "toc_cell": false,
   "toc_section_display": "block",
   "toc_window_display": false
  },
  "widgets": {
   "state": {
    "36eb14a051da494fb114fbc82838f301": {
     "views": [
      {
       "cell_index": 13
      }
     ]
    },
    "d7c239e50d264b23a106968b66ac2c47": {
     "views": [
      {
       "cell_index": 13
      }
     ]
    }
   },
   "version": "1.2.0"
  }
 },
 "nbformat": 4,
 "nbformat_minor": 0
}
